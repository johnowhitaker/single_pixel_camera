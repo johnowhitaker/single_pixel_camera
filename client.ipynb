{
 "cells": [
  {
   "cell_type": "code",
   "execution_count": 2,
   "metadata": {},
   "outputs": [
    {
     "name": "stdout",
     "output_type": "stream",
     "text": [
      "crw-rw---- 1 root dialout 166, 1 Aug 20 17:06 /dev/ttyACM1\n"
     ]
    }
   ],
   "source": [
    "# List serial devices\n",
    "!ls -l /dev/ttyA*"
   ]
  },
  {
   "cell_type": "code",
   "execution_count": 2,
   "metadata": {},
   "outputs": [],
   "source": [
    "# import serial\n",
    "# port = \"/dev/ttyACM2\"\n",
    "# baudrate = 115200\n",
    "# serial_connection = serial.Serial(port, baudrate)\n",
    "\n",
    "# # Read and write data until the transfer is complete\n",
    "# while True:\n",
    "#     data = serial_connection.read(128)\n",
    "#     if data == b\"EOF\":\n",
    "#         break\n",
    "#     print(data)\n",
    "\n",
    "# # Close the files and serial connection\n",
    "# serial_connection.close()"
   ]
  },
  {
   "cell_type": "code",
   "execution_count": 3,
   "metadata": {},
   "outputs": [],
   "source": [
    "import serial\n",
    "import time\n",
    "import numpy as np\n",
    "import matplotlib.pyplot as plt\n",
    "\n",
    "# Open the serial connection to the MicroPython device\n",
    "ser = serial.Serial('/dev/ttyACM1', 115200, timeout=1,  parity=serial.PARITY_EVEN, stopbits=serial.STOPBITS_ONE)\n",
    "ser.flush()\n",
    "time.sleep(0.5)  # Wait for the connection to establish"
   ]
  },
  {
   "cell_type": "code",
   "execution_count": 4,
   "metadata": {},
   "outputs": [
    {
     "name": "stdout",
     "output_type": "stream",
     "text": [
      "Sending command: MOVE,4500,3900\n",
      "Received response: 43530\n",
      "Sending command: MOVE,4510,3900\n",
      "Received response: 29879\n",
      "Sending command: MOVE,4520,3900\n",
      "Received response: 32279\n",
      "Sending command: MOVE,4530,3900\n",
      "Received response: 29527\n",
      "Sending command: MOVE,4540,3900\n",
      "Received response: 30455\n",
      "Sending command: MOVE,4550,3900\n",
      "Received response: 28887\n",
      "Sending command: MOVE,4560,3900\n",
      "Received response: 31303\n",
      "Sending command: MOVE,4570,3900\n",
      "Received response: 28006\n",
      "Sending command: MOVE,4580,3900\n",
      "Received response: 29719\n",
      "Sending command: MOVE,4590,3900\n",
      "Received response: 27862\n",
      "Sending command: MOVE,4601,3900\n",
      "Received response: 28166\n",
      "Sending command: MOVE,4611,3900\n",
      "Received response: 29351\n",
      "Sending command: MOVE,4621,3900\n",
      "Received response: 27094\n",
      "Sending command: MOVE,4631,3900\n",
      "Received response: 26294\n",
      "Sending command: MOVE,4641,3900\n",
      "Received response: 25222\n",
      "Sending command: MOVE,4651,3900\n",
      "Received response: 26134\n",
      "Sending command: MOVE,4661,3900\n",
      "Received response: 25094\n",
      "Sending command: MOVE,4671,3900\n",
      "Received response: 25254\n",
      "Sending command: MOVE,4681,3900\n",
      "Received response: 24582\n",
      "Sending command: MOVE,4691,3900\n",
      "Received response: 24053\n",
      "Sending command: MOVE,4702,3900\n",
      "Received response: 24517\n",
      "Sending command: MOVE,4712,3900\n",
      "Received response: 23829\n",
      "Sending command: MOVE,4722,3900\n",
      "Received response: 24197\n",
      "Sending command: MOVE,4732,3900\n",
      "Received response: 23061\n",
      "Sending command: MOVE,4742,3900\n",
      "Received response: 22677\n",
      "Sending command: MOVE,4752,3900\n",
      "Received response: 24197\n",
      "Sending command: MOVE,4762,3900\n",
      "Received response: 23701\n",
      "Sending command: MOVE,4772,3900\n",
      "Received response: 22421\n",
      "Sending command: MOVE,4782,3900\n",
      "Received response: 22309\n",
      "Sending command: MOVE,4792,3900\n",
      "Received response: 22149\n",
      "Sending command: MOVE,4803,3900\n",
      "Received response: 22101\n",
      "Sending command: MOVE,4813,3900\n",
      "Received response: 22149\n",
      "Sending command: MOVE,4823,3900\n",
      "Received response: 23269\n",
      "Sending command: MOVE,4833,3900\n",
      "Received response: 21269\n",
      "Sending command: MOVE,4843,3900\n",
      "Received response: 22965\n",
      "Sending command: MOVE,4853,3900\n",
      "Received response: 22613\n",
      "Sending command: MOVE,4863,3900\n",
      "Received response: 21925\n",
      "Sending command: MOVE,4873,3900\n",
      "Received response: 21957\n",
      "Sending command: MOVE,4883,3900\n",
      "Received response: 22469\n",
      "Sending command: MOVE,4893,3900\n",
      "Received response: 21957\n",
      "Sending command: MOVE,4904,3900\n",
      "Received response: 22453\n",
      "Sending command: MOVE,4914,3900\n",
      "Received response: 22613\n",
      "Sending command: MOVE,4924,3900\n",
      "Received response: 22437\n",
      "Sending command: MOVE,4934,3900\n",
      "Received response: 23013\n",
      "Sending command: MOVE,4944,3900\n",
      "Received response: 23541\n",
      "Sending command: MOVE,4954,3900\n",
      "Received response: 22709\n",
      "Sending command: MOVE,4964,3900\n",
      "Received response: 23461\n",
      "Sending command: MOVE,4974,3900\n",
      "Received response: 24165\n",
      "Sending command: MOVE,4984,3900\n",
      "Received response: 24373\n",
      "Sending command: MOVE,4994,3900\n",
      "Received response: 23717\n",
      "Sending command: MOVE,5005,3900\n",
      "Received response: 25270\n",
      "Sending command: MOVE,5015,3900\n",
      "Received response: 26566\n",
      "Sending command: MOVE,5025,3900\n",
      "Received response: 25174\n",
      "Sending command: MOVE,5035,3900\n",
      "Received response: 27654\n",
      "Sending command: MOVE,5045,3900\n",
      "Received response: 29079\n",
      "Sending command: MOVE,5055,3900\n",
      "Received response: 28502\n",
      "Sending command: MOVE,5065,3900\n",
      "Received response: 28598\n",
      "Sending command: MOVE,5075,3900\n",
      "Received response: 30599\n",
      "Sending command: MOVE,5085,3900\n",
      "Received response: 29399\n",
      "Sending command: MOVE,5095,3900\n",
      "Received response: 29895\n",
      "Sending command: MOVE,5106,3900\n",
      "Received response: 30631\n",
      "Sending command: MOVE,5116,3900\n",
      "Received response: 31559\n",
      "Sending command: MOVE,5126,3900\n",
      "Received response: 31591\n",
      "Sending command: MOVE,5136,3900\n",
      "Received response: 33480\n",
      "Sending command: MOVE,5146,3900\n",
      "Received response: 33368\n",
      "Sending command: MOVE,5156,3900\n",
      "Received response: 32631\n",
      "Sending command: MOVE,5166,3900\n",
      "Received response: 33416\n",
      "Sending command: MOVE,5176,3900\n",
      "Received response: 34312\n",
      "Sending command: MOVE,5186,3900\n",
      "Received response: 33384\n",
      "Sending command: MOVE,5196,3900\n",
      "Received response: 34472\n",
      "Sending command: MOVE,5207,3900\n",
      "Received response: 34728\n",
      "Sending command: MOVE,5217,3900\n",
      "Received response: 35880\n",
      "Sending command: MOVE,5227,3900\n",
      "Received response: 34520\n",
      "Sending command: MOVE,5237,3900\n",
      "Received response: 35720\n",
      "Sending command: MOVE,5247,3900\n",
      "Received response: 35272\n",
      "Sending command: MOVE,5257,3900\n",
      "Received response: 35880\n",
      "Sending command: MOVE,5267,3900\n",
      "Received response: 37097\n",
      "Sending command: MOVE,5277,3900\n",
      "Received response: 35368\n",
      "Sending command: MOVE,5287,3900\n",
      "Received response: 35896\n",
      "Sending command: MOVE,5297,3900\n",
      "Received response: 37193\n",
      "Sending command: MOVE,5308,3900\n",
      "Received response: 37977\n",
      "Sending command: MOVE,5318,3900\n",
      "Received response: 37849\n",
      "Sending command: MOVE,5328,3900\n",
      "Received response: 38073\n",
      "Sending command: MOVE,5338,3900\n",
      "Received response: 36552\n",
      "Sending command: MOVE,5348,3900\n",
      "Received response: 38537\n",
      "Sending command: MOVE,5358,3900\n",
      "Received response: 37161\n",
      "Sending command: MOVE,5368,3900\n",
      "Received response: 36520\n",
      "Sending command: MOVE,5378,3900\n",
      "Received response: 38329\n",
      "Sending command: MOVE,5388,3900\n",
      "Received response: 38873\n",
      "Sending command: MOVE,5398,3900\n",
      "Received response: 36808\n",
      "Sending command: MOVE,5409,3900\n",
      "Received response: 36953\n",
      "Sending command: MOVE,5419,3900\n",
      "Received response: 36953\n",
      "Sending command: MOVE,5429,3900\n",
      "Received response: 38297\n",
      "Sending command: MOVE,5439,3900\n",
      "Received response: 37769\n",
      "Sending command: MOVE,5449,3900\n",
      "Received response: 39625\n",
      "Sending command: MOVE,5459,3900\n",
      "Received response: 39817\n",
      "Sending command: MOVE,5469,3900\n",
      "Received response: 37849\n"
     ]
    },
    {
     "ename": "KeyboardInterrupt",
     "evalue": "",
     "output_type": "error",
     "traceback": [
      "\u001b[0;31m---------------------------------------------------------------------------\u001b[0m",
      "\u001b[0;31mKeyboardInterrupt\u001b[0m                         Traceback (most recent call last)",
      "Cell \u001b[0;32mIn[4], line 27\u001b[0m\n\u001b[1;32m     25\u001b[0m \u001b[38;5;28;01mfor\u001b[39;00m i, pos1 \u001b[38;5;129;01min\u001b[39;00m \u001b[38;5;28menumerate\u001b[39m(pos1_range):\n\u001b[1;32m     26\u001b[0m     \u001b[38;5;28;01mfor\u001b[39;00m j, pos2 \u001b[38;5;129;01min\u001b[39;00m \u001b[38;5;28menumerate\u001b[39m(pos2_range):\n\u001b[0;32m---> 27\u001b[0m         ldr_reading \u001b[38;5;241m=\u001b[39m \u001b[43msend_command\u001b[49m\u001b[43m(\u001b[49m\u001b[38;5;28;43mint\u001b[39;49m\u001b[43m(\u001b[49m\u001b[43mpos1\u001b[49m\u001b[43m)\u001b[49m\u001b[43m,\u001b[49m\u001b[43m \u001b[49m\u001b[38;5;28;43mint\u001b[39;49m\u001b[43m(\u001b[49m\u001b[43mpos2\u001b[49m\u001b[43m)\u001b[49m\u001b[43m,\u001b[49m\u001b[43m \u001b[49m\u001b[43mdebug\u001b[49m\u001b[38;5;241;43m=\u001b[39;49m\u001b[43mj\u001b[49m\u001b[38;5;241;43m==\u001b[39;49m\u001b[38;5;241;43m0\u001b[39;49m\u001b[43m)\u001b[49m\n\u001b[1;32m     28\u001b[0m         \u001b[38;5;28;01mif\u001b[39;00m ldr_reading \u001b[38;5;129;01mis\u001b[39;00m \u001b[38;5;129;01mnot\u001b[39;00m \u001b[38;5;28;01mNone\u001b[39;00m:\n\u001b[1;32m     29\u001b[0m             \u001b[38;5;28;01mtry\u001b[39;00m:\n",
      "Cell \u001b[0;32mIn[4], line 6\u001b[0m, in \u001b[0;36msend_command\u001b[0;34m(pos1, pos2, debug)\u001b[0m\n\u001b[1;32m      4\u001b[0m time\u001b[38;5;241m.\u001b[39msleep(\u001b[38;5;241m0.1\u001b[39m)\n\u001b[1;32m      5\u001b[0m ser\u001b[38;5;241m.\u001b[39mwrite(command\u001b[38;5;241m.\u001b[39mencode(\u001b[38;5;124m'\u001b[39m\u001b[38;5;124mutf-8\u001b[39m\u001b[38;5;124m'\u001b[39m))\n\u001b[0;32m----> 6\u001b[0m \u001b[43mtime\u001b[49m\u001b[38;5;241;43m.\u001b[39;49m\u001b[43msleep\u001b[49m\u001b[43m(\u001b[49m\u001b[38;5;241;43m0.2\u001b[39;49m\u001b[43m)\u001b[49m\n\u001b[1;32m      7\u001b[0m \u001b[38;5;66;03m# response = ser.readline().strip().decode('utf-8')\u001b[39;00m\n\u001b[1;32m      8\u001b[0m response \u001b[38;5;241m=\u001b[39m ser\u001b[38;5;241m.\u001b[39mread_until()\u001b[38;5;241m.\u001b[39mstrip()\u001b[38;5;241m.\u001b[39mdecode(\u001b[38;5;124m'\u001b[39m\u001b[38;5;124mutf-8\u001b[39m\u001b[38;5;124m'\u001b[39m)\n",
      "\u001b[0;31mKeyboardInterrupt\u001b[0m: "
     ]
    }
   ],
   "source": [
    "\n",
    "def send_command(pos1, pos2, debug=False):\n",
    "    command = f\"MOVE,{pos1},{pos2}\\n\"\n",
    "    if debug: print(f\"Sending command: {command.strip()}\")  # Debug: Print the command being sent\n",
    "    time.sleep(0.1)\n",
    "    ser.write(command.encode('utf-8'))\n",
    "    time.sleep(0.2)\n",
    "    # response = ser.readline().strip().decode('utf-8')\n",
    "    response = ser.read_until().strip().decode('utf-8')\n",
    "    if debug: print(f\"Received response: {response}\")  # Debug: Print the received response\n",
    "    return response\n",
    "\n",
    "# Define grid parameters\n",
    "# pos1_range = np.linspace(4000, 6000, 32)  # Servo 1 positions\n",
    "# pos2_range = np.linspace(3000, 6000, 32)  # Servo 2 positions\n",
    "\n",
    "# pos1_range = np.linspace(4500, 5500, 16)  # Servo 1 positions\n",
    "# pos2_range = np.linspace(4250, 4750, 16)  # Servo 2 positions\n",
    "\n",
    "pos1_range = np.linspace(4500, 5500, 100)  # Servo 1 positions\n",
    "pos2_range = np.linspace(3900, 4500, 60)  # Servo 2 positions\n",
    "\n",
    "ldr_readings = np.zeros((len(pos1_range), len(pos2_range)))\n",
    "\n",
    "# Perform grid scan\n",
    "for i, pos1 in enumerate(pos1_range):\n",
    "    for j, pos2 in enumerate(pos2_range):\n",
    "        ldr_reading = send_command(int(pos1), int(pos2), debug=j==0)\n",
    "        if ldr_reading is not None:\n",
    "            try:\n",
    "                ldr_readings[i, j] = float(ldr_reading)\n",
    "            except Exception as e:\n",
    "                print(f\"Error converting LDR reading to float: {e}\")\n",
    "                print(f\"LDR reading: {ldr_reading}\")\n",
    "                ldr_readings[i, j] = 0\n",
    "        time.sleep(0.1)  # Add delay to avoid overwhelming the serial communication\n"
   ]
  },
  {
   "cell_type": "code",
   "execution_count": 5,
   "metadata": {},
   "outputs": [
    {
     "data": {
      "text/plain": [
       "<matplotlib.image.AxesImage at 0x7c43514fafb0>"
      ]
     },
     "execution_count": 5,
     "metadata": {},
     "output_type": "execute_result"
    },
    {
     "data": {
      "image/png": "[encoded data removed]",
      "text/plain": [
       "<Figure size 640x480 with 1 Axes>"
      ]
     },
     "metadata": {},
     "output_type": "display_data"
    }
   ],
   "source": [
    "img = ldr_readings - np.min(ldr_readings)\n",
    "img = img / np.max(img)\n",
    "img = 1-img\n",
    "# Rotate 90 degrees\n",
    "# img = np.rot90(img)\n",
    "plt.imshow(img, cmap='inferno')"
   ]
  },
  {
   "cell_type": "code",
   "execution_count": 6,
   "metadata": {},
   "outputs": [
    {
     "data": {
      "text/plain": [
       "<matplotlib.image.AxesImage at 0x7c4351269720>"
      ]
     },
     "execution_count": 6,
     "metadata": {},
     "output_type": "execute_result"
    },
    {
     "data": {
      "image/png": "[encoded data removed]",
      "text/plain": [
       "<Figure size 640x480 with 1 Axes>"
      ]
     },
     "metadata": {},
     "output_type": "display_data"
    }
   ],
   "source": [
    "plt.imshow(img.T[:, :90], cmap='inferno')"
   ]
  },
  {
   "cell_type": "code",
   "execution_count": 7,
   "metadata": {},
   "outputs": [],
   "source": [
    "# import pickle\n",
    "# pickle.dump(img.T[:, :90], open('img.pkl', 'wb'))"
   ]
  },
  {
   "cell_type": "code",
   "execution_count": 8,
   "metadata": {},
   "outputs": [],
   "source": [
    "# Close the serial connection\n",
    "ser.close()"
   ]
  },
  {
   "cell_type": "code",
   "execution_count": null,
   "metadata": {},
   "outputs": [],
   "source": []
  }
 ],
 "metadata": {
  "kernelspec": {
   "display_name": "robot_venv",
   "language": "python",
   "name": "python3"
  },
  "language_info": {
   "codemirror_mode": {
    "name": "ipython",
    "version": 3
   },
   "file_extension": ".py",
   "mimetype": "text/x-python",
   "name": "python",
   "nbconvert_exporter": "python",
   "pygments_lexer": "ipython3",
   "version": "3.10.12"
  }
 },
 "nbformat": 4,
 "nbformat_minor": 2
}
